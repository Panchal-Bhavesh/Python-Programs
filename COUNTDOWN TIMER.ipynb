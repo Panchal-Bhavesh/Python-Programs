{
 "cells": [
  {
   "cell_type": "code",
   "execution_count": 1,
   "id": "f380469f",
   "metadata": {},
   "outputs": [],
   "source": [
    "import tkinter as tk\n",
    "from tkinter import messagebox\n",
    "import time"
   ]
  },
  {
   "cell_type": "code",
   "execution_count": 2,
   "id": "60b7346f",
   "metadata": {},
   "outputs": [],
   "source": [
    "root=tk.Tk()\n",
    "root.title(\"Countdown Timer\")\n",
    "root.geometry(\"300x200\")\n",
    "\n",
    "entry_label = tk.Label(root,text=\"Enter time in seconds:\")\n",
    "entry_label.pack()\n",
    "\n",
    "entry = tk.Entry(root)\n",
    "entry.pack()\n",
    "\n",
    "countdown_label = tk.Label(root,text=\"\",font=(\"Helvetica\",24))\n",
    "countdown_label.pack()\n",
    "\n",
    "def start_countdown():\n",
    "    try:\n",
    "        total_time = int(entry.get())\n",
    "        countdown(total_time)\n",
    "    except ValueError:\n",
    "        messagebox.showerror(\"invalid input\",\"Please enter an integer value.\")\n",
    "        \n",
    "start_button = tk.Button(root,text=\"Start\",command=start_countdown)\n",
    "start_button.pack()"
   ]
  },
  {
   "cell_type": "code",
   "execution_count": 3,
   "id": "6bfddf7f",
   "metadata": {},
   "outputs": [],
   "source": [
    "def countdown(time_in_seconds):\n",
    "    while time_in_seconds >= 0:\n",
    "        mins, secs = divmod(time_in_seconds, 60)\n",
    "        time_format = '{:02d}:{:02d}'.format(mins, secs)\n",
    "        countdown_label.config(text=time_format)\n",
    "        root.update()\n",
    "        time.sleep(1)\n",
    "        time_in_seconds -= 1\n",
    "    messagebox.showinfo(\"Time's up!\", \"The countdown has finished.\")\n",
    "root.mainloop()"
   ]
  },
  {
   "cell_type": "code",
   "execution_count": null,
   "id": "b2608eaa",
   "metadata": {},
   "outputs": [],
   "source": []
  }
 ],
 "metadata": {
  "kernelspec": {
   "display_name": "Python 3 (ipykernel)",
   "language": "python",
   "name": "python3"
  },
  "language_info": {
   "codemirror_mode": {
    "name": "ipython",
    "version": 3
   },
   "file_extension": ".py",
   "mimetype": "text/x-python",
   "name": "python",
   "nbconvert_exporter": "python",
   "pygments_lexer": "ipython3",
   "version": "3.11.4"
  }
 },
 "nbformat": 4,
 "nbformat_minor": 5
}
