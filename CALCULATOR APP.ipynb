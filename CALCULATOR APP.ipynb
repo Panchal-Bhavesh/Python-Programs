{
 "cells": [
  {
   "cell_type": "code",
   "execution_count": 7,
   "id": "6c37ffea",
   "metadata": {},
   "outputs": [
    {
     "name": "stdout",
     "output_type": "stream",
     "text": [
      "~~~~~~~Mini Calculator~~~~~~~~\n",
      "Enter first number here: 8\n",
      "Enter second number here: 5\n",
      "press 1 for addition \n",
      "press 2 for subtraction \n",
      "press 3 for multiplication \n",
      "press 4 for division\n",
      "Enter your choice from 1-4: 1\n",
      "The addition of given two numbers is 13.0\n"
     ]
    }
   ],
   "source": [
    "print (\"~~~~~~~Mini Calculator~~~~~~~~\")\n",
    "\n",
    "num1 = float(input(\"Enter first number here: \"))\n",
    "num2 = float(input(\"Enter second number here: \"))\n",
    "\n",
    "print(\"press 1 for addition \\npress 2 for subtraction \\npress 3 for multiplication \\npress 4 for division\")\n",
    "\n",
    "choice = int(input(\"Enter your choice from 1-4: \"))\n",
    "\n",
    "if choice == 1:\n",
    "    print(\"The addition of given two numbers is\", num1 + num2)\n",
    "elif choice == 2:\n",
    "    print(\"The subtraction of given two numbers is\", num1 - num2)\n",
    "elif choice == 3:\n",
    "    print(\"The multiplication of given two numbers is\", num1 * num2)\n",
    "elif choice == 4:\n",
    "    print(\"The division of given two numbers is\", num1 / num2)\n",
    "else:\n",
    "    print(\"Invalid Input\")\n",
    "    "
   ]
  },
  {
   "cell_type": "code",
   "execution_count": null,
   "id": "f576339b",
   "metadata": {},
   "outputs": [],
   "source": []
  }
 ],
 "metadata": {
  "kernelspec": {
   "display_name": "Python 3 (ipykernel)",
   "language": "python",
   "name": "python3"
  },
  "language_info": {
   "codemirror_mode": {
    "name": "ipython",
    "version": 3
   },
   "file_extension": ".py",
   "mimetype": "text/x-python",
   "name": "python",
   "nbconvert_exporter": "python",
   "pygments_lexer": "ipython3",
   "version": "3.11.4"
  }
 },
 "nbformat": 4,
 "nbformat_minor": 5
}
